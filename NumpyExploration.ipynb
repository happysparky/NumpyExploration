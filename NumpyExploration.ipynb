{
  "nbformat": 4,
  "nbformat_minor": 0,
  "metadata": {
    "colab": {
      "name": "HW2_ZhaLeon.ipynb",
      "provenance": [],
      "collapsed_sections": []
    },
    "kernelspec": {
      "name": "python3",
      "display_name": "Python 3"
    }
  },
  "cells": [
    {
      "cell_type": "markdown",
      "metadata": {
        "id": "bNsIruOzI4iF"
      },
      "source": [
        "## **Homework 2**\n",
        "\n",
        "### Create a copy of the notebook to start answering the questions. Name your notebook in the format HW1_lastname_firstname.ipynb to facilitate the grading process. \n",
        "\n",
        "### Answer all the questions, test your code to ensure there are no errors and the results are as expected. Once you have answered all the questions, save the final copy, then go to File-> click on Download.ipynb. Once the local copy has been downloaded, submit your file on Blackboard under the corresponding assignment section. Also provide us a link to your notebook during submission. \n",
        "\n",
        "### **The due date of this homework is 02/12/2021 (Friday).**\n",
        "\n",
        "### Please ensure you follow all the steps mentioned in the homework.\n",
        "\n",
        "### All the questions have a sample input and output to help you understand the question.\n",
        "\n",
        "### You can submit your solutions any number of times until the deadline.\n"
      ]
    },
    {
      "cell_type": "markdown",
      "metadata": {
        "id": "U3Yz3s2uio1F"
      },
      "source": [
        "**Q1. Lets consider your data is like the below cell:**\n",
        "\n",
        "**Q1-1**: Write a program that create a dataframe from the data.\n",
        "\n",
        "**Q1-2:** Select people that are psychologist or teacher and their number of cars is greater than their family size.\n",
        "\n",
        "**Q1-3:** Select people who have at most 2 family members and at least 1 car.\n",
        "\n",
        "**Q1-4:** Write a code that get number of unique jobs in this dataset.\n",
        "\n",
        "\n",
        "\n"
      ]
    },
    {
      "cell_type": "code",
      "metadata": {
        "id": "yR8lcOtcjxXD"
      },
      "source": [
        "data = {\"name\": [\"Joseph\", \"Jacob\", \"Sam\", \"Jesee\", \"Ryan\", \"Lisa\", \"Lee\"],\n",
        "        \"job\": [\"teacher\", \"psychologist\", \"data scientist\", \"software developer\", \"psychologist\", \"psychologist\", \"teacher\"],\n",
        "        \"family_size\": [3, 2, 1, 4, 2, 3, 2],\n",
        "        \"num_cars\": [3, 1, 1, 2, 2, 4, 1]}"
      ],
      "execution_count": 12,
      "outputs": []
    },
    {
      "cell_type": "code",
      "metadata": {
        "id": "Youi5qMaP34p",
        "colab": {
          "base_uri": "https://localhost:8080/"
        },
        "outputId": "6b11628c-4404-4a77-ab4b-a61a42e542c8"
      },
      "source": [
        "# Type your solution here\r\n",
        "import pandas as pd\r\n",
        "#Q1-1\r\n",
        "df = pd.DataFrame(data)\r\n",
        "print(df)\r\n",
        "print()\r\n",
        "\r\n",
        "#Q1-2\r\n",
        "df2 = df[((df[\"job\"] == \"teacher\") | (df[\"job\"] == \"psychologist\")) & (df[\"num_cars\"] > df[\"family_size\"])]\r\n",
        "print(df2)\r\n",
        "print()\r\n",
        "\r\n",
        "#Q1-3\r\n",
        "df3 = df[(df[\"family_size\"] < 4) & (df[\"num_cars\"] >= 1)]\r\n",
        "print(df3)\r\n",
        "\r\n",
        "#Q1-4\r\n",
        "print()\r\n",
        "print(len(pd.unique(df[\"job\"])), \"unique jobs\")"
      ],
      "execution_count": 15,
      "outputs": [
        {
          "output_type": "stream",
          "text": [
            "     name                 job  family_size  num_cars\n",
            "0  Joseph             teacher            3         3\n",
            "1   Jacob        psychologist            2         1\n",
            "2     Sam      data scientist            1         1\n",
            "3   Jesee  software developer            4         2\n",
            "4    Ryan        psychologist            2         2\n",
            "5    Lisa        psychologist            3         4\n",
            "6     Lee             teacher            2         1\n",
            "\n",
            "   name           job  family_size  num_cars\n",
            "5  Lisa  psychologist            3         4\n",
            "\n",
            "     name             job  family_size  num_cars\n",
            "0  Joseph         teacher            3         3\n",
            "1   Jacob    psychologist            2         1\n",
            "2     Sam  data scientist            1         1\n",
            "4    Ryan    psychologist            2         2\n",
            "5    Lisa    psychologist            3         4\n",
            "6     Lee         teacher            2         1\n",
            "\n",
            "4 unique jobs\n"
          ],
          "name": "stdout"
        }
      ]
    },
    {
      "cell_type": "markdown",
      "metadata": {
        "id": "Ow6nG8k4l91X"
      },
      "source": [
        "**Q2. Lets consider you have two series like the below cell. Compute the mean of weights of each fruit.**"
      ]
    },
    {
      "cell_type": "code",
      "metadata": {
        "id": "u-X_DoOzVLLB"
      },
      "source": [
        "import numpy as np\n",
        "fruit = pd.Series(np.random.choice(['apple', 'banana', 'carrot'], 10))\n",
        "weights = pd.Series(np.linspace(1, 10, 10))"
      ],
      "execution_count": 47,
      "outputs": []
    },
    {
      "cell_type": "code",
      "metadata": {
        "id": "S419nzYnpU__",
        "colab": {
          "base_uri": "https://localhost:8080/"
        },
        "outputId": "fd572dfc-e809-4351-ab64-ea8fdbde483b"
      },
      "source": [
        "# Type your solution here\r\n",
        "print(fruit)\r\n",
        "print(weights)\r\n",
        "\r\n",
        "for i in np.unique(fruit.values):\r\n",
        "  print(i, \"mean weight: \", np.mean(weights[fruit[fruit==i].index]))\r\n"
      ],
      "execution_count": 49,
      "outputs": [
        {
          "output_type": "stream",
          "text": [
            "0     apple\n",
            "1    carrot\n",
            "2    carrot\n",
            "3    carrot\n",
            "4    banana\n",
            "5     apple\n",
            "6    carrot\n",
            "7    banana\n",
            "8    carrot\n",
            "9    banana\n",
            "dtype: object\n",
            "0     1.0\n",
            "1     2.0\n",
            "2     3.0\n",
            "3     4.0\n",
            "4     5.0\n",
            "5     6.0\n",
            "6     7.0\n",
            "7     8.0\n",
            "8     9.0\n",
            "9    10.0\n",
            "dtype: float64\n",
            "apple mean weight:  3.5\n",
            "banana mean weight:  7.666666666666667\n",
            "carrot mean weight:  5.0\n"
          ],
          "name": "stdout"
        }
      ]
    },
    {
      "cell_type": "markdown",
      "metadata": {
        "id": "g4lKaPIhtVrt"
      },
      "source": [
        "**Q3. Consider the below course_name array:**\n",
        "\n",
        "**Q3-1**: Write a NumPy program to get the indices of the sorted elements of **course_name** array.\n",
        "\n",
        "**Q3-2:** Write numpy code to check whether each element of **course_name** array starts with \"P\".\n"
      ]
    },
    {
      "cell_type": "code",
      "metadata": {
        "id": "RUP_jp2KtVrx"
      },
      "source": [
        "import numpy as np\n",
        "course_name = np.array(['Python', 'JS', 'examples', 'PHP', 'html'])"
      ],
      "execution_count": 33,
      "outputs": []
    },
    {
      "cell_type": "markdown",
      "metadata": {
        "id": "mUSl7Mi-ULX7"
      },
      "source": [
        ""
      ]
    },
    {
      "cell_type": "code",
      "metadata": {
        "id": "U1i27POxv-o_",
        "colab": {
          "base_uri": "https://localhost:8080/"
        },
        "outputId": "d0f003be-4b5e-4119-e3a2-025275db673e"
      },
      "source": [
        "# Type your solution here\r\n",
        "#Q3-1\r\n",
        "print(course_name)\r\n",
        "print(np.sort(course_name), \"\\n\")\r\n",
        "\r\n",
        "\r\n",
        "#Q3-2\r\n",
        "print(course_name[np.char.endswith(course_name, \"P\", start=0, end=1)])\r\n",
        "#print(course_name[np.char.find(course_name, \"P\", start=0, end=1)+1])\r\n",
        "#print(course_name[course_name.index(0) == \"Python\"])"
      ],
      "execution_count": 34,
      "outputs": [
        {
          "output_type": "stream",
          "text": [
            "['Python' 'JS' 'examples' 'PHP' 'html']\n",
            "['JS' 'PHP' 'Python' 'examples' 'html'] \n",
            "\n",
            "['Python' 'PHP']\n"
          ],
          "name": "stdout"
        }
      ]
    },
    {
      "cell_type": "markdown",
      "metadata": {
        "id": "sUFItNFOxwkz"
      },
      "source": [
        "**Q4. Consider the below student_id array:**\n",
        "\n",
        "**Q4-1:** Reverse the **student_id** array. Print both original and reversed array.\n",
        "\n",
        "**Q4-2:** Get the 3-largest values of **student_id** array."
      ]
    },
    {
      "cell_type": "code",
      "metadata": {
        "id": "Rl5qzEjFv0nw"
      },
      "source": [
        "import numpy as np\n",
        "student_id = np.array([1023, 5202, 6230, 1671, 1682, 5241, 4532])"
      ],
      "execution_count": 35,
      "outputs": []
    },
    {
      "cell_type": "code",
      "metadata": {
        "id": "EetvHGrUxMCC",
        "colab": {
          "base_uri": "https://localhost:8080/"
        },
        "outputId": "c686100e-9cb3-40fb-9734-3912a3227af3"
      },
      "source": [
        "# Type your solution here\r\n",
        "#Q4-1\r\n",
        "reversed = np.flip(student_id)\r\n",
        "print(student_id)\r\n",
        "print(reversed, \"\\n\")\r\n",
        "\r\n",
        "#Q4-2\r\n",
        "print((np.sort(student_id))[-3:])"
      ],
      "execution_count": 36,
      "outputs": [
        {
          "output_type": "stream",
          "text": [
            "[1023 5202 6230 1671 1682 5241 4532]\n",
            "[4532 5241 1682 1671 6230 5202 1023] \n",
            "\n",
            "[5202 5241 6230]\n"
          ],
          "name": "stdout"
        }
      ]
    },
    {
      "cell_type": "markdown",
      "metadata": {
        "id": "uKRyDVuW6B19"
      },
      "source": [
        "# **Q5: Write a numpy program to print sum of all the multiples of 3 or 5 below 100**"
      ]
    },
    {
      "cell_type": "code",
      "metadata": {
        "id": "ZIixq1gz6OK3",
        "colab": {
          "base_uri": "https://localhost:8080/"
        },
        "outputId": "a26944c6-139e-4146-ab47-0d79e824db09"
      },
      "source": [
        "# Type your solution here\n",
        "# Hint: you can use arange to start off\n",
        "s = np.arange(100);\n",
        "np.sum((s[(s%3 == 0) | (s%5 == 0)]))"
      ],
      "execution_count": 37,
      "outputs": [
        {
          "output_type": "execute_result",
          "data": {
            "text/plain": [
              "2318"
            ]
          },
          "metadata": {
            "tags": []
          },
          "execution_count": 37
        }
      ]
    },
    {
      "cell_type": "markdown",
      "metadata": {
        "id": "2CWJOsP24c34"
      },
      "source": [
        "**Q6. Consider the below array.**\n",
        "\n",
        "Q6.1. Write a code to swap column 1 with column 2.\n",
        "\n",
        "Q6.2. Write a code to swap row 0 with row 1."
      ]
    },
    {
      "cell_type": "code",
      "metadata": {
        "id": "3OG6X5Eg5KSM",
        "colab": {
          "base_uri": "https://localhost:8080/"
        },
        "outputId": "d2d45179-35d0-4fad-d9a9-79dada8300f7"
      },
      "source": [
        "import numpy as np\n",
        "\n",
        "arr = np.arange(12).reshape(3,4)\n",
        "print(arr)"
      ],
      "execution_count": 38,
      "outputs": [
        {
          "output_type": "stream",
          "text": [
            "[[ 0  1  2  3]\n",
            " [ 4  5  6  7]\n",
            " [ 8  9 10 11]]\n"
          ],
          "name": "stdout"
        }
      ]
    },
    {
      "cell_type": "code",
      "metadata": {
        "id": "Q-Q91DpO5YYW",
        "colab": {
          "base_uri": "https://localhost:8080/"
        },
        "outputId": "83b04e57-de6d-473a-b0a7-465a4aa38c97"
      },
      "source": [
        "# Type your solution here\r\n",
        "#Q6-1\r\n",
        "arr[0:, [0,1]] = arr[0:, [1,0]]\r\n",
        "print(arr)\r\n",
        "print()\r\n",
        "#Q6-2\r\n",
        "arr[[0, 1]] = arr[[1, 0]]\r\n",
        "print(arr)"
      ],
      "execution_count": 39,
      "outputs": [
        {
          "output_type": "stream",
          "text": [
            "[[ 1  0  2  3]\n",
            " [ 5  4  6  7]\n",
            " [ 9  8 10 11]]\n",
            "\n",
            "[[ 5  4  6  7]\n",
            " [ 1  0  2  3]\n",
            " [ 9  8 10 11]]\n"
          ],
          "name": "stdout"
        }
      ]
    }
  ]
}